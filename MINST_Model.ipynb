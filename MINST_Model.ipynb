{
 "cells": [
  {
   "cell_type": "code",
   "id": "initial_id",
   "metadata": {
    "collapsed": true,
    "ExecuteTime": {
     "end_time": "2024-12-29T22:59:29.197102Z",
     "start_time": "2024-12-29T22:59:27.466083Z"
    }
   },
   "source": [
    "import torch\n",
    "import wandb\n",
    "from torch.utils.data import DataLoader\n",
    "from torchvision import datasets, transforms\n",
    "import torch.nn as nn\n",
    "import torch.optim as optim\n",
    "from torch.optim.lr_scheduler import ReduceLROnPlateau"
   ],
   "outputs": [
    {
     "name": "stderr",
     "output_type": "stream",
     "text": [
      "/Users/cdesforges/PycharmProjects/MINST_Model/.venv/lib/python3.9/site-packages/urllib3/__init__.py:35: NotOpenSSLWarning: urllib3 v2 only supports OpenSSL 1.1.1+, currently the 'ssl' module is compiled with 'LibreSSL 2.8.3'. See: https://github.com/urllib3/urllib3/issues/3020\n",
      "  warnings.warn(\n"
     ]
    }
   ],
   "execution_count": 1
  },
  {
   "metadata": {
    "ExecuteTime": {
     "end_time": "2024-12-29T22:59:40.285575Z",
     "start_time": "2024-12-29T22:59:40.262504Z"
    }
   },
   "cell_type": "code",
   "source": [
    "if torch.backends.mps.is_available():\n",
    "    print(\"MPS backend is available!\")\n",
    "else:\n",
    "    print(\"MPS backend is not available.\")"
   ],
   "id": "34b1c8afba4c8de2",
   "outputs": [
    {
     "name": "stdout",
     "output_type": "stream",
     "text": [
      "MPS backend is available!\n"
     ]
    }
   ],
   "execution_count": 2
  },
  {
   "metadata": {
    "ExecuteTime": {
     "end_time": "2024-12-29T22:59:42.367581Z",
     "start_time": "2024-12-29T22:59:42.363305Z"
    }
   },
   "cell_type": "code",
   "source": [
    "class MLP(nn.Module):\n",
    "    def __init__(self, input_size, hidden_size, output_size):\n",
    "        super(MLP, self).__init__()\n",
    "        # Define layers as a sequential block\n",
    "        self.layers = nn.Sequential(\n",
    "            nn.Linear(input_size, hidden_size),\n",
    "            nn.ReLU(),\n",
    "            nn.Dropout(0.1),\n",
    "            nn.Linear(hidden_size, hidden_size),\n",
    "            nn.ReLU(),\n",
    "            nn.Dropout(0.1),\n",
    "            nn.Linear(hidden_size, hidden_size),\n",
    "            nn.ReLU(),\n",
    "            nn.Dropout(0.1),\n",
    "            nn.Linear(hidden_size, output_size)\n",
    "        )\n",
    "    \n",
    "    def forward(self, x):\n",
    "        x = x.view(-1, 28 * 28)  # Flatten the input\n",
    "        x = self.layers(x)       # Pass through the sequential layers\n",
    "        return x"
   ],
   "id": "a799464680732602",
   "outputs": [],
   "execution_count": 3
  },
  {
   "metadata": {
    "ExecuteTime": {
     "end_time": "2024-12-29T22:59:44.696533Z",
     "start_time": "2024-12-29T22:59:44.692806Z"
    }
   },
   "cell_type": "code",
   "source": [
    "class CNN(nn.Module):\n",
    "    def __init__(self):\n",
    "        super(CNN, self).__init__()\n",
    "        self.layers = nn.Sequential(\n",
    "            nn.Conv2d(1, 32, 3, 1, 1),\n",
    "            nn.MaxPool2d(2, 2),\n",
    "            nn.Conv2d(32, 64, 3, 1, 1),\n",
    "            nn.MaxPool2d(2,2),\n",
    "            nn.Flatten(),\n",
    "            nn.Linear(64*7*7, 128),\n",
    "            nn.ReLU(),\n",
    "            nn.Dropout(0.5),\n",
    "            nn.Linear(128, 10)\n",
    "        )\n",
    "        \n",
    "    def forward(self, x):\n",
    "        return self.layers(x)\n",
    "        "
   ],
   "id": "4fcc2f14717c8343",
   "outputs": [],
   "execution_count": 4
  },
  {
   "metadata": {
    "ExecuteTime": {
     "end_time": "2024-12-29T22:59:47.842585Z",
     "start_time": "2024-12-29T22:59:47.817900Z"
    }
   },
   "cell_type": "code",
   "source": [
    "transform = transforms.Compose([\n",
    "    transforms.ToTensor(),\n",
    "    transforms.Normalize((0.5,), (0.5,))\n",
    "])\n",
    "\n",
    "train_dataset = datasets.MNIST(root=\"./data\", train=True, transform=transform, download=True)\n",
    "test_dataset = datasets.MNIST(root=\"./data\", train=False, transform=transform, download=True)"
   ],
   "id": "f4636a2a40f0396",
   "outputs": [],
   "execution_count": 5
  },
  {
   "metadata": {
    "ExecuteTime": {
     "end_time": "2024-12-29T22:59:48.926008Z",
     "start_time": "2024-12-29T22:59:48.909081Z"
    }
   },
   "cell_type": "code",
   "source": [
    "batch_size = 32          # how many images to analyze at a time (smaller better for generalization, higher for faster)\n",
    "epochs = 50             # number of runs (int)\n",
    "learning_rate = 0.001   # size of gradient descent steps (usually le-3 to le-4)\n",
    "hidden_size = 128       # hidden layer size\n",
    "\n",
    "train_loader = DataLoader(train_dataset, batch_size=batch_size, shuffle=True)               # object that loads training set\n",
    "test_loader = DataLoader(test_dataset, batch_size=batch_size, shuffle=False)                # object that loads test set\n",
    "\n",
    "# SET DEVICE\n",
    "device = torch.device(\"mps\") if torch.backends.mps.is_available() else torch.device(\"cpu\")\n",
    "print(f\"Using device: {device}\")\n",
    "\n",
    "#model = MLP(input_size=28*28, hidden_size=hidden_size, output_size=10)                      # MLP model\n",
    "model = CNN().to(device)                                                                               # CNN model\n",
    "\n",
    "criterion = nn.CrossEntropyLoss()                                                           # this is our loss criterion\n",
    "optimizer = optim.Adam(params=model.parameters(), lr=learning_rate, weight_decay=1e-4)      # our backprop algorithm\n",
    "#optimizer = torch.optim.SGD(model.parameters(), lr=0.01, momentum=0.9)\n",
    "\n",
    "scheduler = ReduceLROnPlateau(optimizer, mode='min', factor=0.2, patience=3)"
   ],
   "id": "6691d7cad268aeff",
   "outputs": [
    {
     "name": "stdout",
     "output_type": "stream",
     "text": [
      "Using device: mps\n"
     ]
    }
   ],
   "execution_count": 6
  },
  {
   "metadata": {
    "ExecuteTime": {
     "end_time": "2024-12-29T22:59:52.459741Z",
     "start_time": "2024-12-29T22:59:52.453473Z"
    }
   },
   "cell_type": "code",
   "source": [
    "def train():\n",
    "    model.train()\n",
    "    total_loss = 0\n",
    "    correct = 0\n",
    "    \n",
    "    for images, labels in train_loader:\n",
    "        images, labels = images.to(device), labels.to(device)\n",
    "        \n",
    "        optimizer.zero_grad()\n",
    "        outputs = model(images)\n",
    "        loss = criterion(outputs, labels)\n",
    "        loss.backward()\n",
    "        optimizer.step()\n",
    "        \n",
    "        total_loss += loss.item()\n",
    "        _, predicted = torch.max(outputs.data, 1)           # first param = dimensionality of input class, 2nd indicates index of max val in tensor\n",
    "        correct += (predicted==labels).sum().item()\n",
    "        \n",
    "    avg_loss = total_loss / len(train_loader)\n",
    "    accuracy = correct / len(train_loader.dataset)\n",
    "\n",
    "    \n",
    "    return avg_loss, accuracy\n",
    "\n",
    "def test():\n",
    "    model.eval()\n",
    "    \n",
    "    total_loss = 0\n",
    "    correct = 0\n",
    "    \n",
    "    with torch.no_grad():\n",
    "        for images, labels in test_loader:\n",
    "            images, labels = images.to(device), labels.to(device)\n",
    "\n",
    "            outputs = model(images)\n",
    "            loss = criterion(outputs, labels)\n",
    "            total_loss += loss.item()\n",
    "            _, predicted = torch.max(outputs.data, 1)\n",
    "            correct += (predicted==labels).sum().item()\n",
    "            \n",
    "    avg_loss = total_loss / len(test_loader)\n",
    "    accuracy = correct / len(test_loader.dataset)\n",
    "            \n",
    "    return avg_loss, accuracy        "
   ],
   "id": "18f8c5111f7f4088",
   "outputs": [],
   "execution_count": 7
  },
  {
   "metadata": {
    "ExecuteTime": {
     "end_time": "2024-12-25T20:38:12.408173Z",
     "start_time": "2024-12-25T20:38:11.775695Z"
    }
   },
   "cell_type": "code",
   "source": [
    "wandb.init(project=\"MNIST_Model_CNN\",\n",
    "           name=\"V_2_DO_0.5\",\n",
    "           config={\n",
    "    \"learning_rate\": learning_rate,\n",
    "    \"batch_size\": batch_size,\n",
    "    \"epochs\": epochs\n",
    "})"
   ],
   "id": "63191a0fdd2d1407",
   "outputs": [
    {
     "data": {
      "text/plain": [
       "<IPython.core.display.HTML object>"
      ],
      "text/html": [
       "Tracking run with wandb version 0.19.1"
      ]
     },
     "metadata": {},
     "output_type": "display_data"
    },
    {
     "data": {
      "text/plain": [
       "<IPython.core.display.HTML object>"
      ],
      "text/html": [
       "Run data is saved locally in <code>/Users/cdesforges/PycharmProjects/MINST_Model/wandb/run-20241225_123811-y9mkycha</code>"
      ]
     },
     "metadata": {},
     "output_type": "display_data"
    },
    {
     "data": {
      "text/plain": [
       "<IPython.core.display.HTML object>"
      ],
      "text/html": [
       "Syncing run <strong><a href='https://wandb.ai/cdesforges_wandb/MNIST_Model_CNN/runs/y9mkycha' target=\"_blank\">V_2_DO_0.5</a></strong> to <a href='https://wandb.ai/cdesforges_wandb/MNIST_Model_CNN' target=\"_blank\">Weights & Biases</a> (<a href='https://wandb.me/developer-guide' target=\"_blank\">docs</a>)<br>"
      ]
     },
     "metadata": {},
     "output_type": "display_data"
    },
    {
     "data": {
      "text/plain": [
       "<IPython.core.display.HTML object>"
      ],
      "text/html": [
       " View project at <a href='https://wandb.ai/cdesforges_wandb/MNIST_Model_CNN' target=\"_blank\">https://wandb.ai/cdesforges_wandb/MNIST_Model_CNN</a>"
      ]
     },
     "metadata": {},
     "output_type": "display_data"
    },
    {
     "data": {
      "text/plain": [
       "<IPython.core.display.HTML object>"
      ],
      "text/html": [
       " View run at <a href='https://wandb.ai/cdesforges_wandb/MNIST_Model_CNN/runs/y9mkycha' target=\"_blank\">https://wandb.ai/cdesforges_wandb/MNIST_Model_CNN/runs/y9mkycha</a>"
      ]
     },
     "metadata": {},
     "output_type": "display_data"
    },
    {
     "data": {
      "text/html": [
       "<button onClick=\"this.nextSibling.style.display='block';this.style.display='none';\">Display W&B run</button><iframe src='https://wandb.ai/cdesforges_wandb/MNIST_Model_CNN/runs/y9mkycha?jupyter=true' style='border:none;width:100%;height:420px;display:none;'></iframe>"
      ],
      "text/plain": [
       "<wandb.sdk.wandb_run.Run at 0x16be37dc0>"
      ]
     },
     "execution_count": 28,
     "metadata": {},
     "output_type": "execute_result"
    }
   ],
   "execution_count": 28
  },
  {
   "metadata": {
    "ExecuteTime": {
     "end_time": "2024-12-25T20:43:48.699688Z",
     "start_time": "2024-12-25T20:38:12.417447Z"
    }
   },
   "cell_type": "code",
   "source": [
    "best_loss = float('inf')\n",
    "patience = 10\n",
    "no_improvement = 0\n",
    "\n",
    "\n",
    "try:\n",
    "    for epoch in range(epochs):\n",
    "        training_loss, training_acc = train()\n",
    "        test_loss, test_acc = test()\n",
    "        \n",
    "        print(f\"epoch {epoch+1} of {epochs}: training_loss = {training_loss:.4f}, training_accuracy = {training_acc:.4f}, test_loss = {test_loss:.4f}, test_accuracy = {test_acc:.4f}, lr_size = {optimizer.param_groups[0]['lr']:.10f}\")\n",
    "        \n",
    "        if test_loss < best_loss:\n",
    "            best_loss = test_loss\n",
    "            no_improvement = 0\n",
    "        else:\n",
    "            no_improvement += 1             # check to see if our loss is still going down\n",
    "            \n",
    "        if no_improvement > patience:\n",
    "            break                           # if not get out!\n",
    "        \n",
    "        wandb.log({\n",
    "            \"epoch\": epoch,\n",
    "            \"lr\": optimizer.param_groups[0]['lr'],\n",
    "            \"train_loss\": training_loss,\n",
    "            \"train_accuracy\": training_acc,\n",
    "            \"test_loss\": test_loss,\n",
    "            \"test_accuracy\": test_acc\n",
    "        })\n",
    "        \n",
    "        scheduler.step(test_loss)\n",
    "finally:\n",
    "    wandb.finish()"
   ],
   "id": "56aa9c09a8a3ef63",
   "outputs": [
    {
     "name": "stdout",
     "output_type": "stream",
     "text": [
      "epoch 1 of 50: training_loss = 0.1991, training_accuracy = 0.9382, test_loss = 0.0534, test_accuracy = 0.9821, lr_size = 0.0010000000\n",
      "epoch 2 of 50: training_loss = 0.0939, training_accuracy = 0.9716, test_loss = 0.0408, test_accuracy = 0.9867, lr_size = 0.0010000000\n",
      "epoch 3 of 50: training_loss = 0.0788, training_accuracy = 0.9761, test_loss = 0.0387, test_accuracy = 0.9883, lr_size = 0.0010000000\n",
      "epoch 4 of 50: training_loss = 0.0666, training_accuracy = 0.9795, test_loss = 0.0322, test_accuracy = 0.9903, lr_size = 0.0010000000\n",
      "epoch 5 of 50: training_loss = 0.0620, training_accuracy = 0.9810, test_loss = 0.0290, test_accuracy = 0.9905, lr_size = 0.0010000000\n",
      "epoch 6 of 50: training_loss = 0.0548, training_accuracy = 0.9832, test_loss = 0.0353, test_accuracy = 0.9899, lr_size = 0.0010000000\n",
      "epoch 7 of 50: training_loss = 0.0553, training_accuracy = 0.9823, test_loss = 0.0375, test_accuracy = 0.9884, lr_size = 0.0010000000\n",
      "epoch 8 of 50: training_loss = 0.0502, training_accuracy = 0.9846, test_loss = 0.0350, test_accuracy = 0.9895, lr_size = 0.0010000000\n",
      "epoch 9 of 50: training_loss = 0.0493, training_accuracy = 0.9843, test_loss = 0.0362, test_accuracy = 0.9893, lr_size = 0.0010000000\n",
      "epoch 10 of 50: training_loss = 0.0280, training_accuracy = 0.9912, test_loss = 0.0260, test_accuracy = 0.9920, lr_size = 0.0002000000\n",
      "epoch 11 of 50: training_loss = 0.0204, training_accuracy = 0.9937, test_loss = 0.0255, test_accuracy = 0.9922, lr_size = 0.0002000000\n",
      "epoch 12 of 50: training_loss = 0.0168, training_accuracy = 0.9944, test_loss = 0.0253, test_accuracy = 0.9917, lr_size = 0.0002000000\n",
      "epoch 13 of 50: training_loss = 0.0153, training_accuracy = 0.9950, test_loss = 0.0269, test_accuracy = 0.9915, lr_size = 0.0002000000\n",
      "epoch 14 of 50: training_loss = 0.0148, training_accuracy = 0.9954, test_loss = 0.0253, test_accuracy = 0.9928, lr_size = 0.0002000000\n",
      "epoch 15 of 50: training_loss = 0.0137, training_accuracy = 0.9956, test_loss = 0.0287, test_accuracy = 0.9925, lr_size = 0.0002000000\n",
      "epoch 16 of 50: training_loss = 0.0135, training_accuracy = 0.9955, test_loss = 0.0284, test_accuracy = 0.9910, lr_size = 0.0002000000\n",
      "epoch 17 of 50: training_loss = 0.0103, training_accuracy = 0.9970, test_loss = 0.0274, test_accuracy = 0.9919, lr_size = 0.0000400000\n",
      "epoch 18 of 50: training_loss = 0.0096, training_accuracy = 0.9971, test_loss = 0.0263, test_accuracy = 0.9923, lr_size = 0.0000400000\n",
      "epoch 19 of 50: training_loss = 0.0087, training_accuracy = 0.9975, test_loss = 0.0261, test_accuracy = 0.9921, lr_size = 0.0000400000\n",
      "epoch 20 of 50: training_loss = 0.0090, training_accuracy = 0.9972, test_loss = 0.0265, test_accuracy = 0.9927, lr_size = 0.0000400000\n",
      "epoch 21 of 50: training_loss = 0.0084, training_accuracy = 0.9973, test_loss = 0.0260, test_accuracy = 0.9927, lr_size = 0.0000080000\n",
      "epoch 22 of 50: training_loss = 0.0080, training_accuracy = 0.9977, test_loss = 0.0256, test_accuracy = 0.9926, lr_size = 0.0000080000\n",
      "epoch 23 of 50: training_loss = 0.0075, training_accuracy = 0.9977, test_loss = 0.0257, test_accuracy = 0.9924, lr_size = 0.0000080000\n"
     ]
    },
    {
     "data": {
      "text/plain": [
       "<IPython.core.display.HTML object>"
      ],
      "text/html": []
     },
     "metadata": {},
     "output_type": "display_data"
    },
    {
     "data": {
      "text/plain": [
       "<IPython.core.display.HTML object>"
      ],
      "text/html": [
       "<br>    <style><br>        .wandb-row {<br>            display: flex;<br>            flex-direction: row;<br>            flex-wrap: wrap;<br>            justify-content: flex-start;<br>            width: 100%;<br>        }<br>        .wandb-col {<br>            display: flex;<br>            flex-direction: column;<br>            flex-basis: 100%;<br>            flex: 1;<br>            padding: 10px;<br>        }<br>    </style><br><div class=\"wandb-row\"><div class=\"wandb-col\"><h3>Run history:</h3><br/><table class=\"wandb\"><tr><td>epoch</td><td>▁▁▂▂▂▃▃▃▄▄▄▅▅▅▆▆▆▇▇▇██</td></tr><tr><td>lr</td><td>█████████▂▂▂▂▂▂▂▁▁▁▁▁▁</td></tr><tr><td>test_accuracy</td><td>▁▄▅▆▆▆▅▆▆▇█▇▇██▇▇█████</td></tr><tr><td>test_loss</td><td>█▅▄▃▂▄▄▃▄▁▁▁▁▁▂▂▂▁▁▁▁▁</td></tr><tr><td>train_accuracy</td><td>▁▅▅▆▆▆▆▆▆▇████████████</td></tr><tr><td>train_loss</td><td>█▄▄▃▃▃▃▃▃▂▁▁▁▁▁▁▁▁▁▁▁▁</td></tr></table><br/></div><div class=\"wandb-col\"><h3>Run summary:</h3><br/><table class=\"wandb\"><tr><td>epoch</td><td>21</td></tr><tr><td>lr</td><td>1e-05</td></tr><tr><td>test_accuracy</td><td>0.9926</td></tr><tr><td>test_loss</td><td>0.02561</td></tr><tr><td>train_accuracy</td><td>0.99768</td></tr><tr><td>train_loss</td><td>0.00799</td></tr></table><br/></div></div>"
      ]
     },
     "metadata": {},
     "output_type": "display_data"
    },
    {
     "data": {
      "text/plain": [
       "<IPython.core.display.HTML object>"
      ],
      "text/html": [
       " View run <strong style=\"color:#cdcd00\">V_2_DO_0.5</strong> at: <a href='https://wandb.ai/cdesforges_wandb/MNIST_Model_CNN/runs/y9mkycha' target=\"_blank\">https://wandb.ai/cdesforges_wandb/MNIST_Model_CNN/runs/y9mkycha</a><br> View project at: <a href='https://wandb.ai/cdesforges_wandb/MNIST_Model_CNN' target=\"_blank\">https://wandb.ai/cdesforges_wandb/MNIST_Model_CNN</a><br>Synced 5 W&B file(s), 0 media file(s), 0 artifact file(s) and 0 other file(s)"
      ]
     },
     "metadata": {},
     "output_type": "display_data"
    },
    {
     "data": {
      "text/plain": [
       "<IPython.core.display.HTML object>"
      ],
      "text/html": [
       "Find logs at: <code>./wandb/run-20241225_123811-y9mkycha/logs</code>"
      ]
     },
     "metadata": {},
     "output_type": "display_data"
    }
   ],
   "execution_count": 29
  },
  {
   "metadata": {
    "ExecuteTime": {
     "end_time": "2024-12-29T23:22:36.327636Z",
     "start_time": "2024-12-29T23:22:36.206137Z"
    }
   },
   "cell_type": "code",
   "source": [
    "import matplotlib.pyplot as plt\n",
    "\n",
    "state_dict = torch.load(\"CNN_DO_WD_99_25.pth\", weights_only=True)\n",
    "model.load_state_dict(state_dict)\n",
    "\n",
    "examples = iter(test_loader)\n",
    "example_data, example_labels = next(examples)\n",
    "\n",
    "example_labels = example_labels.to(device)\n",
    "example_data = example_data.to(device)\n",
    "\n",
    "# Run the model\n",
    "with torch.no_grad():\n",
    "    outputs = model(example_data)\n",
    "    _, pred = torch.max(outputs, 1)\n",
    "\n",
    "# Move data back to CPU for visualization\n",
    "example_data = example_data.cpu()\n",
    "example_labels = example_labels.cpu()\n",
    "pred = pred.cpu()\n",
    "\n",
    "# Plot the images\n",
    "fig = plt.figure()\n",
    "\n",
    "for i in range(6):\n",
    "    plt.subplot(2, 3, i + 1)\n",
    "    plt.imshow(example_data[i][0].numpy(), cmap=\"gray\")  # Convert to numpy and set grayscale colormap\n",
    "    plt.title(f\"predicts: {pred[i].item()} | {example_labels[i].item() == pred[i].item()}\")\n",
    "    plt.axis(\"off\")\n",
    "\n",
    "plt.show()"
   ],
   "id": "c1dc09b5ed4eb870",
   "outputs": [
    {
     "data": {
      "text/plain": [
       "<Figure size 640x480 with 6 Axes>"
      ],
      "image/png": "[encoded data removed]"
     },
     "metadata": {},
     "output_type": "display_data"
    }
   ],
   "execution_count": 29
  },
  {
   "metadata": {
    "ExecuteTime": {
     "end_time": "2024-12-25T21:22:10.732052Z",
     "start_time": "2024-12-25T21:22:10.720905Z"
    }
   },
   "cell_type": "code",
   "source": "#torch.save(model.state_dict(), 'CNN_DO_WD_99_25.pth')",
   "id": "7074ad1eb2b1a99b",
   "outputs": [],
   "execution_count": 31
  },
  {
   "metadata": {
    "ExecuteTime": {
     "end_time": "2024-12-30T16:58:56.211838Z",
     "start_time": "2024-12-30T16:58:56.092600Z"
    }
   },
   "cell_type": "code",
   "source": "!which python",
   "id": "de5bb0f52caaffeb",
   "outputs": [
    {
     "name": "stdout",
     "output_type": "stream",
     "text": [
      "/Users/cdesforges/PycharmProjects/MINST_Model/.venv/bin/python\r\n"
     ]
    }
   ],
   "execution_count": 1
  }
 ],
 "metadata": {
  "kernelspec": {
   "display_name": "Python 3",
   "language": "python",
   "name": "python3"
  },
  "language_info": {
   "codemirror_mode": {
    "name": "ipython",
    "version": 2
   },
   "file_extension": ".py",
   "mimetype": "text/x-python",
   "name": "python",
   "nbconvert_exporter": "python",
   "pygments_lexer": "ipython2",
   "version": "2.7.6"
  }
 },
 "nbformat": 4,
 "nbformat_minor": 5
}
